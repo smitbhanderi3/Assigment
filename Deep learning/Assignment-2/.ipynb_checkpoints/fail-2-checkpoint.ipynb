{
 "cells": [
  {
   "cell_type": "code",
   "execution_count": 4,
   "id": "55ea8556",
   "metadata": {},
   "outputs": [
    {
     "name": "stdout",
     "output_type": "stream",
     "text": [
      "Loss: 2.3025431632995605 Accuracy: 0.1328125\n",
      "Loss: 2.3040404319763184 Accuracy: 0.0859375\n",
      "Loss: 2.3010730743408203 Accuracy: 0.1015625\n",
      "Loss: 2.301266670227051 Accuracy: 0.109375\n",
      "Loss: 2.2924909591674805 Accuracy: 0.1640625\n",
      "Loss: 2.306518316268921 Accuracy: 0.09375\n",
      "Loss: 2.2998290061950684 Accuracy: 0.1171875\n",
      "Loss: 2.2941677570343018 Accuracy: 0.1328125\n",
      "Loss: 2.2869386672973633 Accuracy: 0.125\n",
      "Loss: 1.7956748008728027 Accuracy: 0.3359375\n",
      "Loss: 1.989774465560913 Accuracy: 0.1875\n",
      "Loss: 1.4544081687927246 Accuracy: 0.3984375\n",
      "Loss: 1.2107627391815186 Accuracy: 0.5234375\n",
      "Loss: 1.1095895767211914 Accuracy: 0.53125\n",
      "Loss: 1.2666243314743042 Accuracy: 0.5859375\n",
      "Loss: 0.77337646484375 Accuracy: 0.640625\n",
      "Loss: 0.4797622263431549 Accuracy: 0.8671875\n",
      "Loss: 0.6395718455314636 Accuracy: 0.7734375\n",
      "Loss: 0.4563048779964447 Accuracy: 0.8671875\n",
      "Loss: 0.4684625566005707 Accuracy: 0.890625\n",
      "Loss: 0.30501076579093933 Accuracy: 0.921875\n",
      "Loss: 0.2735671401023865 Accuracy: 0.921875\n",
      "Loss: 0.6383198499679565 Accuracy: 0.75\n",
      "Loss: 0.7656108736991882 Accuracy: 0.734375\n",
      "Loss: 0.22180373966693878 Accuracy: 0.9609375\n",
      "Loss: 0.38637250661849976 Accuracy: 0.8515625\n",
      "Loss: 0.17027351260185242 Accuracy: 0.96875\n",
      "Loss: 0.21858787536621094 Accuracy: 0.9296875\n",
      "Loss: 0.17837858200073242 Accuracy: 0.9609375\n",
      "Loss: 0.15703408420085907 Accuracy: 0.9453125\n",
      "Loss: 0.19441351294517517 Accuracy: 0.953125\n",
      "Final test accuracy: 0.9524999856948853\n"
     ]
    }
   ],
   "source": [
    "import tensorflow as tf\n",
    "import numpy as np\n",
    "\n",
    "\n",
    "# get the data\n",
    "(train_images, train_labels), (test_images, test_labels) = tf.keras.datasets.mnist.load_data()\n",
    "\n",
    "\n",
    "def preprocess_images(images):\n",
    "    return images.reshape(-1, 784).astype(np.float32) / 255\n",
    "\n",
    "\n",
    "def preprocess_labels(labels):\n",
    "    return labels.reshape(-1).astype(np.int32)\n",
    "\n",
    "\n",
    "train_images = preprocess_images(train_images)\n",
    "test_images = preprocess_images(test_images)\n",
    "train_labels = preprocess_labels(train_labels)\n",
    "test_labels = preprocess_labels(test_labels)\n",
    "\n",
    "train_data = tf.data.Dataset.from_tensor_slices((train_images, train_labels)).shuffle(60000).batch(128).repeat()\n",
    "#test_data = tf.data.Dataset.from_tensor_slices((test_images, test_labels)).batch(128)\n",
    "\n",
    "\n",
    "# define the model first, from input to output\n",
    "\n",
    "# this is a super deep model, cool!\n",
    "n_units = 100\n",
    "n_layers = 8\n",
    "w_range = 0.1\n",
    "\n",
    "# just set up a \"chain\" of hidden layers\n",
    "# model is represented by a list where each element is a layer,\n",
    "# and each layer is in turn a list of the layer variables (w, b)\n",
    "\n",
    "# first layer goes from n_input to n_hidden\n",
    "w_input = tf.Variable(tf.random.uniform([784, n_units], -w_range, w_range),\n",
    "                      name=\"w0\")\n",
    "b_input = tf.Variable(tf.zeros(n_units), name=\"b0\")\n",
    "layers = [[w_input, b_input]]\n",
    "\n",
    "# all other hidden layers go from n_hidden to n_hidden\n",
    "for layer in range(n_layers - 1):\n",
    "    w = tf.Variable(tf.random.uniform([n_units, n_units], -w_range, w_range),\n",
    "                    name=\"w\" + str(layer+1))\n",
    "    b = tf.Variable(tf.zeros(n_units), name=\"b\" + str(layer+1))\n",
    "    layers.append([w, b])\n",
    "\n",
    "# finally add the output layer\n",
    "w_out = tf.Variable(tf.random.uniform([n_units, 10], -w_range, w_range),\n",
    "                    name=\"wout\")\n",
    "b_out = tf.Variable(tf.zeros(10), name=\"bout\")\n",
    "layers.append([w_out, b_out])\n",
    "\n",
    "# flatten the layers to get a list of variables\n",
    "all_variables = [variable for layer in layers for variable in layer]\n",
    "\n",
    "\n",
    "def model_forward(inputs):\n",
    "    x = inputs\n",
    "    for w, b in layers[:-1]:\n",
    "        x = tf.nn.relu(tf.matmul(x, w) + b )\n",
    "    logits = tf.matmul(x, layers[-1][0]) + layers[-1][1]\n",
    "\n",
    "    return logits\n",
    "\n",
    "\n",
    "lr = 0.1\n",
    "train_steps = 3000\n",
    "for step, (img_batch, lbl_batch) in enumerate(train_data):\n",
    "    if step > train_steps:\n",
    "        break\n",
    "\n",
    "    with tf.GradientTape() as tape:\n",
    "        # here we just run all the layers in sequence via a for-loop\n",
    "        logits = model_forward(img_batch)\n",
    "        xent = tf.reduce_mean(tf.nn.sparse_softmax_cross_entropy_with_logits(\n",
    "            logits=logits, labels=lbl_batch))\n",
    "\n",
    "    grads = tape.gradient(xent, all_variables)\n",
    "    for grad, var in zip(grads, all_variables):\n",
    "        var.assign_sub(lr*grad)\n",
    "\n",
    "    if not step % 100:\n",
    "        preds = tf.argmax(logits, axis=1, output_type=tf.int32)\n",
    "        acc = tf.reduce_mean(tf.cast(tf.equal(preds, lbl_batch), tf.float32))\n",
    "        print(\"Loss: {} Accuracy: {}\".format(xent, acc))\n",
    "\n",
    "\n",
    "test_preds = model_forward(test_images)\n",
    "test_preds = tf.argmax(test_preds, axis=1, output_type=tf.int32)\n",
    "acc = tf.reduce_mean(tf.cast(tf.equal(test_preds, test_labels), tf.float32))\n",
    "print(\"Final test accuracy: {}\".format(acc))\n"
   ]
  },
  {
   "cell_type": "code",
   "execution_count": 13,
   "id": "e44bdeca",
   "metadata": {},
   "outputs": [
    {
     "data": {
      "text/plain": [
       "(60000, 784)"
      ]
     },
     "execution_count": 13,
     "metadata": {},
     "output_type": "execute_result"
    }
   ],
   "source": [
    "train_images.shape"
   ]
  },
  {
   "cell_type": "code",
   "execution_count": 14,
   "id": "62a0ee34",
   "metadata": {},
   "outputs": [
    {
     "data": {
      "text/plain": [
       "(10000, 784)"
      ]
     },
     "execution_count": 14,
     "metadata": {},
     "output_type": "execute_result"
    }
   ],
   "source": [
    "test_images.shape"
   ]
  },
  {
   "cell_type": "code",
   "execution_count": 15,
   "id": "e3eef01a",
   "metadata": {},
   "outputs": [
    {
     "data": {
      "text/plain": [
       "TensorShape([784, 100])"
      ]
     },
     "execution_count": 15,
     "metadata": {},
     "output_type": "execute_result"
    }
   ],
   "source": [
    "#(28*28)\n",
    "w_input.shape"
   ]
  },
  {
   "cell_type": "code",
   "execution_count": 20,
   "id": "1eff5ede",
   "metadata": {},
   "outputs": [
    {
     "data": {
      "text/plain": [
       "TensorShape([100])"
      ]
     },
     "execution_count": 20,
     "metadata": {},
     "output_type": "execute_result"
    }
   ],
   "source": [
    "b_input.shape"
   ]
  },
  {
   "cell_type": "code",
   "execution_count": 17,
   "id": "f5203780",
   "metadata": {},
   "outputs": [
    {
     "data": {
      "text/plain": [
       "TensorShape([100, 100])"
      ]
     },
     "execution_count": 17,
     "metadata": {},
     "output_type": "execute_result"
    }
   ],
   "source": [
    "w.shape"
   ]
  },
  {
   "cell_type": "code",
   "execution_count": 18,
   "id": "740697d9",
   "metadata": {},
   "outputs": [
    {
     "data": {
      "text/plain": [
       "TensorShape([100])"
      ]
     },
     "execution_count": 18,
     "metadata": {},
     "output_type": "execute_result"
    }
   ],
   "source": [
    "b.shape"
   ]
  },
  {
   "cell_type": "code",
   "execution_count": 24,
   "id": "f4237f08",
   "metadata": {},
   "outputs": [
    {
     "data": {
      "text/plain": [
       "9"
      ]
     },
     "execution_count": 24,
     "metadata": {},
     "output_type": "execute_result"
    }
   ],
   "source": [
    "len(layers)"
   ]
  },
  {
   "cell_type": "code",
   "execution_count": 26,
   "id": "5098eb4d",
   "metadata": {},
   "outputs": [
    {
     "data": {
      "text/plain": [
       "18"
      ]
     },
     "execution_count": 26,
     "metadata": {},
     "output_type": "execute_result"
    }
   ],
   "source": [
    "len(all_variables)"
   ]
  }
 ],
 "metadata": {
  "kernelspec": {
   "display_name": "Python 3 (ipykernel)",
   "language": "python",
   "name": "python3"
  },
  "language_info": {
   "codemirror_mode": {
    "name": "ipython",
    "version": 3
   },
   "file_extension": ".py",
   "mimetype": "text/x-python",
   "name": "python",
   "nbconvert_exporter": "python",
   "pygments_lexer": "ipython3",
   "version": "3.9.12"
  }
 },
 "nbformat": 4,
 "nbformat_minor": 5
}
