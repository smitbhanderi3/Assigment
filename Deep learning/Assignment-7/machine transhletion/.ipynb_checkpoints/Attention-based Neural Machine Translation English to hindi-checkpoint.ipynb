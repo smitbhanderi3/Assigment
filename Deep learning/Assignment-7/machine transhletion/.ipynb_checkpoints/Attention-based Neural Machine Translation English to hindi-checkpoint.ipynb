{
 "cells": [
  {
   "cell_type": "markdown",
   "id": "00d3d39b",
   "metadata": {},
   "source": [
    "## Import library:"
   ]
  },
  {
   "cell_type": "code",
   "execution_count": 206,
   "id": "4f4049cd",
   "metadata": {},
   "outputs": [],
   "source": [
    "import pandas as pd\n",
    "from sklearn.model_selection import train_test_split\n",
    "import string\n",
    "from string import digits\n",
    "import re\n",
    "from sklearn.utils import shuffle\n",
    "from tensorflow.keras.preprocessing.sequence import pad_sequences\n",
    "from tensorflow.keras.layers import LSTM, Input, Dense,Embedding, Concatenate, TimeDistributed\n",
    "from tensorflow.keras.models import Model,load_model, model_from_json\n",
    "from tensorflow.keras.utils import plot_model\n",
    "from tensorflow.keras.preprocessing.text import one_hot, Tokenizer\n",
    "from tensorflow.keras.callbacks import EarlyStopping\n",
    "import pickle as pkl\n",
    "import numpy as np"
   ]
  },
  {
   "cell_type": "markdown",
   "id": "10b46524",
   "metadata": {},
   "source": [
    "## Load Dataset:"
   ]
  },
  {
   "cell_type": "code",
   "execution_count": 207,
   "id": "e5e7d5bb",
   "metadata": {},
   "outputs": [
    {
     "name": "stderr",
     "output_type": "stream",
     "text": [
      "C:\\Users\\Smit\\AppData\\Local\\Temp\\ipykernel_13256\\1719177825.py:1: FutureWarning: The error_bad_lines argument has been deprecated and will be removed in a future version. Use on_bad_lines in the future.\n",
      "\n",
      "\n",
      "  data= pd.read_csv(\"hin.txt\", delimiter='\\t', error_bad_lines=False, header=None, names=['english', 'hindi',\"utf-8\"],)\n"
     ]
    }
   ],
   "source": [
    "data= pd.read_csv(\"hin.txt\", delimiter='\\t', error_bad_lines=False, header=None, names=['english', 'hindi',\"utf-8\"],)"
   ]
  },
  {
   "cell_type": "code",
   "execution_count": 208,
   "id": "0ebd9537",
   "metadata": {},
   "outputs": [
    {
     "data": {
      "text/html": [
       "<div>\n",
       "<style scoped>\n",
       "    .dataframe tbody tr th:only-of-type {\n",
       "        vertical-align: middle;\n",
       "    }\n",
       "\n",
       "    .dataframe tbody tr th {\n",
       "        vertical-align: top;\n",
       "    }\n",
       "\n",
       "    .dataframe thead th {\n",
       "        text-align: right;\n",
       "    }\n",
       "</style>\n",
       "<table border=\"1\" class=\"dataframe\">\n",
       "  <thead>\n",
       "    <tr style=\"text-align: right;\">\n",
       "      <th></th>\n",
       "      <th>index</th>\n",
       "      <th>english</th>\n",
       "      <th>hindi</th>\n",
       "      <th>utf-8</th>\n",
       "    </tr>\n",
       "  </thead>\n",
       "  <tbody>\n",
       "    <tr>\n",
       "      <th>0</th>\n",
       "      <td>0</td>\n",
       "      <td>Wow!</td>\n",
       "      <td>वाह!</td>\n",
       "      <td>CC-BY 2.0 (France) Attribution: tatoeba.org #5...</td>\n",
       "    </tr>\n",
       "    <tr>\n",
       "      <th>1</th>\n",
       "      <td>1</td>\n",
       "      <td>Duck!</td>\n",
       "      <td>झुको!</td>\n",
       "      <td>CC-BY 2.0 (France) Attribution: tatoeba.org #2...</td>\n",
       "    </tr>\n",
       "    <tr>\n",
       "      <th>2</th>\n",
       "      <td>2</td>\n",
       "      <td>Duck!</td>\n",
       "      <td>बतख़!</td>\n",
       "      <td>CC-BY 2.0 (France) Attribution: tatoeba.org #2...</td>\n",
       "    </tr>\n",
       "    <tr>\n",
       "      <th>3</th>\n",
       "      <td>3</td>\n",
       "      <td>Help!</td>\n",
       "      <td>बचाओ!</td>\n",
       "      <td>CC-BY 2.0 (France) Attribution: tatoeba.org #4...</td>\n",
       "    </tr>\n",
       "    <tr>\n",
       "      <th>4</th>\n",
       "      <td>4</td>\n",
       "      <td>Jump.</td>\n",
       "      <td>उछलो.</td>\n",
       "      <td>CC-BY 2.0 (France) Attribution: tatoeba.org #6...</td>\n",
       "    </tr>\n",
       "    <tr>\n",
       "      <th>...</th>\n",
       "      <td>...</td>\n",
       "      <td>...</td>\n",
       "      <td>...</td>\n",
       "      <td>...</td>\n",
       "    </tr>\n",
       "    <tr>\n",
       "      <th>2974</th>\n",
       "      <td>2974</td>\n",
       "      <td>If you go to that supermarket, you can buy mos...</td>\n",
       "      <td>उस सूपरमार्केट में तुम लगभग कोई भी रोजाने में ...</td>\n",
       "      <td>CC-BY 2.0 (France) Attribution: tatoeba.org #6...</td>\n",
       "    </tr>\n",
       "    <tr>\n",
       "      <th>2975</th>\n",
       "      <td>2975</td>\n",
       "      <td>The passengers who were injured in the acciden...</td>\n",
       "      <td>जिन यात्रियों को दुर्घटना मे चोट आई थी उन्हे अ...</td>\n",
       "      <td>CC-BY 2.0 (France) Attribution: tatoeba.org #4...</td>\n",
       "    </tr>\n",
       "    <tr>\n",
       "      <th>2976</th>\n",
       "      <td>2976</td>\n",
       "      <td>Democracy is the worst form of government, exc...</td>\n",
       "      <td>लोकतंत्र सरकार का सबसे घिनौना रूप है, अगर बाकी...</td>\n",
       "      <td>CC-BY 2.0 (France) Attribution: tatoeba.org #1...</td>\n",
       "    </tr>\n",
       "    <tr>\n",
       "      <th>2977</th>\n",
       "      <td>2977</td>\n",
       "      <td>If my boy had not been killed in the traffic a...</td>\n",
       "      <td>अगर मेरा बेटा ट्रेफ़िक हादसे में नहीं मारा गया...</td>\n",
       "      <td>CC-BY 2.0 (France) Attribution: tatoeba.org #3...</td>\n",
       "    </tr>\n",
       "    <tr>\n",
       "      <th>2978</th>\n",
       "      <td>2978</td>\n",
       "      <td>When I was a kid, touching bugs didn't bother ...</td>\n",
       "      <td>जब मैं बच्चा था, मुझे कीड़ों को छूने से कोई पर...</td>\n",
       "      <td>CC-BY 2.0 (France) Attribution: tatoeba.org #2...</td>\n",
       "    </tr>\n",
       "  </tbody>\n",
       "</table>\n",
       "<p>2979 rows × 4 columns</p>\n",
       "</div>"
      ],
      "text/plain": [
       "      index                                            english  \\\n",
       "0         0                                               Wow!   \n",
       "1         1                                              Duck!   \n",
       "2         2                                              Duck!   \n",
       "3         3                                              Help!   \n",
       "4         4                                              Jump.   \n",
       "...     ...                                                ...   \n",
       "2974   2974  If you go to that supermarket, you can buy mos...   \n",
       "2975   2975  The passengers who were injured in the acciden...   \n",
       "2976   2976  Democracy is the worst form of government, exc...   \n",
       "2977   2977  If my boy had not been killed in the traffic a...   \n",
       "2978   2978  When I was a kid, touching bugs didn't bother ...   \n",
       "\n",
       "                                                  hindi  \\\n",
       "0                                                  वाह!   \n",
       "1                                                 झुको!   \n",
       "2                                                 बतख़!   \n",
       "3                                                 बचाओ!   \n",
       "4                                                 उछलो.   \n",
       "...                                                 ...   \n",
       "2974  उस सूपरमार्केट में तुम लगभग कोई भी रोजाने में ...   \n",
       "2975  जिन यात्रियों को दुर्घटना मे चोट आई थी उन्हे अ...   \n",
       "2976  लोकतंत्र सरकार का सबसे घिनौना रूप है, अगर बाकी...   \n",
       "2977  अगर मेरा बेटा ट्रेफ़िक हादसे में नहीं मारा गया...   \n",
       "2978  जब मैं बच्चा था, मुझे कीड़ों को छूने से कोई पर...   \n",
       "\n",
       "                                                  utf-8  \n",
       "0     CC-BY 2.0 (France) Attribution: tatoeba.org #5...  \n",
       "1     CC-BY 2.0 (France) Attribution: tatoeba.org #2...  \n",
       "2     CC-BY 2.0 (France) Attribution: tatoeba.org #2...  \n",
       "3     CC-BY 2.0 (France) Attribution: tatoeba.org #4...  \n",
       "4     CC-BY 2.0 (France) Attribution: tatoeba.org #6...  \n",
       "...                                                 ...  \n",
       "2974  CC-BY 2.0 (France) Attribution: tatoeba.org #6...  \n",
       "2975  CC-BY 2.0 (France) Attribution: tatoeba.org #4...  \n",
       "2976  CC-BY 2.0 (France) Attribution: tatoeba.org #1...  \n",
       "2977  CC-BY 2.0 (France) Attribution: tatoeba.org #3...  \n",
       "2978  CC-BY 2.0 (France) Attribution: tatoeba.org #2...  \n",
       "\n",
       "[2979 rows x 4 columns]"
      ]
     },
     "execution_count": 208,
     "metadata": {},
     "output_type": "execute_result"
    }
   ],
   "source": [
    "data.reset_index(level=0, inplace=True)\n",
    "data"
   ]
  },
  {
   "cell_type": "code",
   "execution_count": 209,
   "id": "ee4a5930",
   "metadata": {},
   "outputs": [],
   "source": [
    "data = data[['english', 'hindi']]"
   ]
  },
  {
   "cell_type": "code",
   "execution_count": 210,
   "id": "f0d53b99",
   "metadata": {
    "scrolled": true
   },
   "outputs": [
    {
     "data": {
      "text/html": [
       "<div>\n",
       "<style scoped>\n",
       "    .dataframe tbody tr th:only-of-type {\n",
       "        vertical-align: middle;\n",
       "    }\n",
       "\n",
       "    .dataframe tbody tr th {\n",
       "        vertical-align: top;\n",
       "    }\n",
       "\n",
       "    .dataframe thead th {\n",
       "        text-align: right;\n",
       "    }\n",
       "</style>\n",
       "<table border=\"1\" class=\"dataframe\">\n",
       "  <thead>\n",
       "    <tr style=\"text-align: right;\">\n",
       "      <th></th>\n",
       "      <th>english</th>\n",
       "      <th>hindi</th>\n",
       "    </tr>\n",
       "  </thead>\n",
       "  <tbody>\n",
       "    <tr>\n",
       "      <th>0</th>\n",
       "      <td>Wow!</td>\n",
       "      <td>वाह!</td>\n",
       "    </tr>\n",
       "    <tr>\n",
       "      <th>1</th>\n",
       "      <td>Duck!</td>\n",
       "      <td>झुको!</td>\n",
       "    </tr>\n",
       "    <tr>\n",
       "      <th>2</th>\n",
       "      <td>Duck!</td>\n",
       "      <td>बतख़!</td>\n",
       "    </tr>\n",
       "    <tr>\n",
       "      <th>3</th>\n",
       "      <td>Help!</td>\n",
       "      <td>बचाओ!</td>\n",
       "    </tr>\n",
       "    <tr>\n",
       "      <th>4</th>\n",
       "      <td>Jump.</td>\n",
       "      <td>उछलो.</td>\n",
       "    </tr>\n",
       "    <tr>\n",
       "      <th>...</th>\n",
       "      <td>...</td>\n",
       "      <td>...</td>\n",
       "    </tr>\n",
       "    <tr>\n",
       "      <th>2974</th>\n",
       "      <td>If you go to that supermarket, you can buy mos...</td>\n",
       "      <td>उस सूपरमार्केट में तुम लगभग कोई भी रोजाने में ...</td>\n",
       "    </tr>\n",
       "    <tr>\n",
       "      <th>2975</th>\n",
       "      <td>The passengers who were injured in the acciden...</td>\n",
       "      <td>जिन यात्रियों को दुर्घटना मे चोट आई थी उन्हे अ...</td>\n",
       "    </tr>\n",
       "    <tr>\n",
       "      <th>2976</th>\n",
       "      <td>Democracy is the worst form of government, exc...</td>\n",
       "      <td>लोकतंत्र सरकार का सबसे घिनौना रूप है, अगर बाकी...</td>\n",
       "    </tr>\n",
       "    <tr>\n",
       "      <th>2977</th>\n",
       "      <td>If my boy had not been killed in the traffic a...</td>\n",
       "      <td>अगर मेरा बेटा ट्रेफ़िक हादसे में नहीं मारा गया...</td>\n",
       "    </tr>\n",
       "    <tr>\n",
       "      <th>2978</th>\n",
       "      <td>When I was a kid, touching bugs didn't bother ...</td>\n",
       "      <td>जब मैं बच्चा था, मुझे कीड़ों को छूने से कोई पर...</td>\n",
       "    </tr>\n",
       "  </tbody>\n",
       "</table>\n",
       "<p>2979 rows × 2 columns</p>\n",
       "</div>"
      ],
      "text/plain": [
       "                                                english  \\\n",
       "0                                                  Wow!   \n",
       "1                                                 Duck!   \n",
       "2                                                 Duck!   \n",
       "3                                                 Help!   \n",
       "4                                                 Jump.   \n",
       "...                                                 ...   \n",
       "2974  If you go to that supermarket, you can buy mos...   \n",
       "2975  The passengers who were injured in the acciden...   \n",
       "2976  Democracy is the worst form of government, exc...   \n",
       "2977  If my boy had not been killed in the traffic a...   \n",
       "2978  When I was a kid, touching bugs didn't bother ...   \n",
       "\n",
       "                                                  hindi  \n",
       "0                                                  वाह!  \n",
       "1                                                 झुको!  \n",
       "2                                                 बतख़!  \n",
       "3                                                 बचाओ!  \n",
       "4                                                 उछलो.  \n",
       "...                                                 ...  \n",
       "2974  उस सूपरमार्केट में तुम लगभग कोई भी रोजाने में ...  \n",
       "2975  जिन यात्रियों को दुर्घटना मे चोट आई थी उन्हे अ...  \n",
       "2976  लोकतंत्र सरकार का सबसे घिनौना रूप है, अगर बाकी...  \n",
       "2977  अगर मेरा बेटा ट्रेफ़िक हादसे में नहीं मारा गया...  \n",
       "2978  जब मैं बच्चा था, मुझे कीड़ों को छूने से कोई पर...  \n",
       "\n",
       "[2979 rows x 2 columns]"
      ]
     },
     "execution_count": 210,
     "metadata": {},
     "output_type": "execute_result"
    }
   ],
   "source": [
    "data"
   ]
  },
  {
   "cell_type": "code",
   "execution_count": 211,
   "id": "c646ef9d",
   "metadata": {},
   "outputs": [
    {
     "data": {
      "text/plain": [
       "(1358340, 1358340)"
      ]
     },
     "execution_count": 211,
     "metadata": {},
     "output_type": "execute_result"
    }
   ],
   "source": [
    "english_text = language_data['english'].values\n",
    "hindi_text = language_data['hindi'].values\n",
    "len(english_text), len(hindi_text)"
   ]
  },
  {
   "cell_type": "markdown",
   "id": "cacb0806",
   "metadata": {},
   "source": [
    "## Data Cleaning:"
   ]
  },
  {
   "cell_type": "code",
   "execution_count": 212,
   "id": "90f050f1",
   "metadata": {},
   "outputs": [
    {
     "name": "stderr",
     "output_type": "stream",
     "text": [
      "C:\\Users\\Smit\\AppData\\Local\\Temp\\ipykernel_13256\\1641608552.py:1: SettingWithCopyWarning: \n",
      "A value is trying to be set on a copy of a slice from a DataFrame.\n",
      "Try using .loc[row_indexer,col_indexer] = value instead\n",
      "\n",
      "See the caveats in the documentation: https://pandas.pydata.org/pandas-docs/stable/user_guide/indexing.html#returning-a-view-versus-a-copy\n",
      "  data[\"english\"] = data[\"english\"].str.lower()\n",
      "C:\\Users\\Smit\\AppData\\Local\\Temp\\ipykernel_13256\\1641608552.py:2: SettingWithCopyWarning: \n",
      "A value is trying to be set on a copy of a slice from a DataFrame.\n",
      "Try using .loc[row_indexer,col_indexer] = value instead\n",
      "\n",
      "See the caveats in the documentation: https://pandas.pydata.org/pandas-docs/stable/user_guide/indexing.html#returning-a-view-versus-a-copy\n",
      "  data[\"hindi\"] = data[\"hindi\"].str.lower()\n"
     ]
    }
   ],
   "source": [
    "data[\"english\"] = data[\"english\"].str.lower()\n",
    "data[\"hindi\"] = data[\"hindi\"].str.lower()"
   ]
  },
  {
   "cell_type": "code",
   "execution_count": 213,
   "id": "df3818b2",
   "metadata": {},
   "outputs": [],
   "source": [
    "#removing inverted commas\n",
    "english_text_ = [re.sub(\"'\",'',x) for x in data[\"english\"] ]\n",
    "hindi_text_ = [re.sub(\"'\",'',x) for x in data[\"hindi\"] ]"
   ]
  },
  {
   "cell_type": "code",
   "execution_count": 214,
   "id": "2048b80f",
   "metadata": {},
   "outputs": [],
   "source": [
    "def remove_punc(text_list):\n",
    "  table = str.maketrans('', '', string.punctuation)\n",
    "  removed_punc_text = []\n",
    "  for sent in text_list:\n",
    "    sentance = [w.translate(table) for w in sent.split(' ')]\n",
    "    removed_punc_text.append(' '.join(sentance))\n",
    "  return removed_punc_text\n",
    "english_text_ = remove_punc(english_text_)\n",
    "hindi_text_ = remove_punc(hindi_text_)\n",
    "remove_digits = str.maketrans('', '', digits)\n",
    "removed_digits_text = []\n",
    "for sent in english_text_:\n",
    "  sentance = [w.translate(remove_digits) for w in sent.split(' ')]\n",
    "  removed_digits_text.append(' '.join(sentance))\n",
    "english_text_ = removed_digits_text\n",
    "# removing the digits from the marathi sentances\n",
    "hindi_text_ = [re.sub(\"[२३०८१५७९४६]\",\"\",x) for x in hindi_text_]\n",
    "hindi_text_ = [re.sub(\"[\\u200d]\",\"\",x) for x in hindi_text_]\n",
    "# removing the stating and ending whitespaces\n",
    "english_text_ = [x.strip() for x in english_text_]\n",
    "hindi_text_ = [x.strip() for x in hindi_text_]"
   ]
  },
  {
   "cell_type": "code",
   "execution_count": 215,
   "id": "5232dd6d",
   "metadata": {},
   "outputs": [
    {
     "data": {
      "text/plain": [
       "('start वाह end', 'wow')"
      ]
     },
     "execution_count": 215,
     "metadata": {},
     "output_type": "execute_result"
    }
   ],
   "source": [
    "# Putting the start and end words in the marathi sentances\n",
    "hindi_text_ = [\"start \" + x + \" end\" for x in hindi_text_]\n",
    "# manipulated_marathi_text_\n",
    "hindi_text_[0], english_text_[0]"
   ]
  },
  {
   "cell_type": "markdown",
   "id": "d1c35455",
   "metadata": {},
   "source": [
    "## Data preparation for model building"
   ]
  },
  {
   "cell_type": "code",
   "execution_count": 216,
   "id": "5e5ae3f3",
   "metadata": {},
   "outputs": [],
   "source": [
    "X = english_text_\n",
    "Y = hindi_text_\n",
    "X_train, X_test, y_train, y_test=train_test_split(X,Y,test_size=0.1)"
   ]
  },
  {
   "cell_type": "markdown",
   "id": "81c12a55",
   "metadata": {},
   "source": [
    "### Let’s determine the maximum length of our sentences in both English and Hindi:"
   ]
  },
  {
   "cell_type": "code",
   "execution_count": 217,
   "id": "3f1b4824",
   "metadata": {},
   "outputs": [
    {
     "data": {
      "text/plain": [
       "(27, 22)"
      ]
     },
     "execution_count": 217,
     "metadata": {},
     "output_type": "execute_result"
    }
   ],
   "source": [
    "def Max_length(data):\n",
    "  max_length_ = max([len(x.split(' ')) for x in data])\n",
    "  return max_length_\n",
    "#Training data\n",
    "max_length_english = Max_length(X_train)\n",
    "max_length_hindi = Max_length(y_train)\n",
    "#Test data\n",
    "max_length_english_test = Max_length(X_test)\n",
    "max_length_hindi_test = Max_length(y_test)\n",
    "max_length_hindi, max_length_english"
   ]
  },
  {
   "cell_type": "markdown",
   "id": "3db99b37",
   "metadata": {},
   "source": [
    "### Tokenization And Padding:"
   ]
  },
  {
   "cell_type": "code",
   "execution_count": 218,
   "id": "bfa5eb9c",
   "metadata": {},
   "outputs": [],
   "source": [
    "englishTokenizer = Tokenizer()\n",
    "englishTokenizer.fit_on_texts(X_train)\n",
    "Eword2index = englishTokenizer.word_index\n",
    "vocab_size_source = len(Eword2index) + 1\n",
    "\n",
    "X_train = englishTokenizer.texts_to_sequences(X_train)\n",
    "X_train = pad_sequences(X_train, maxlen=max_length_english, padding='post')\n",
    "X_test = englishTokenizer.texts_to_sequences(X_test)\n",
    "X_test = pad_sequences(X_test, maxlen = max_length_english, padding='post')"
   ]
  },
  {
   "cell_type": "code",
   "execution_count": 219,
   "id": "e7a12bb1",
   "metadata": {},
   "outputs": [],
   "source": [
    "hindiTokenizer = Tokenizer()\n",
    "hindiTokenizer.fit_on_texts(y_train)\n",
    "Mword2index = hindiTokenizer.word_index\n",
    "vocab_size_target = len(Mword2index) + 1\n",
    "\n",
    "y_train = hindiTokenizer.texts_to_sequences(y_train)\n",
    "y_train = pad_sequences(y_train, maxlen=max_length_hindi, padding='post')\n",
    "y_test = hindiTokenizer.texts_to_sequences(y_test)\n",
    "y_test = pad_sequences(y_test, maxlen = max_length_hindi, padding='post')"
   ]
  },
  {
   "cell_type": "code",
   "execution_count": 220,
   "id": "8c44fa60",
   "metadata": {},
   "outputs": [
    {
     "data": {
      "text/plain": [
       "(2273, 2896)"
      ]
     },
     "execution_count": 220,
     "metadata": {},
     "output_type": "execute_result"
    }
   ],
   "source": [
    "vocab_size_source, vocab_size_target"
   ]
  },
  {
   "cell_type": "code",
   "execution_count": 221,
   "id": "c7f4495d",
   "metadata": {},
   "outputs": [
    {
     "data": {
      "text/plain": [
       "(array([  2,  54,   5, 426, 522, 124, 140,   0,   0,   0,   0,   0,   0,\n",
       "          0,   0,   0,   0,   0,   0,   0,   0,   0]),\n",
       " array([  1,   9,  52, 153,  24,  17, 372, 584, 298,   2,   0,   0,   0,\n",
       "          0,   0,   0,   0,   0,   0,   0,   0,   0,   0,   0,   0,   0,\n",
       "          0]))"
      ]
     },
     "execution_count": 221,
     "metadata": {},
     "output_type": "execute_result"
    }
   ],
   "source": [
    "X_train[0], y_train[0]"
   ]
  },
  {
   "cell_type": "markdown",
   "id": "8d3c0be9",
   "metadata": {},
   "source": [
    "## Save model\n",
    "To save our preprocessing time whenever we reuse it again in future, we will save our important attributes. So, let’s do it first with the help of pickle library."
   ]
  },
  {
   "cell_type": "code",
   "execution_count": 222,
   "id": "d1593f84",
   "metadata": {},
   "outputs": [],
   "source": [
    "with open('NMT_data.pkl','wb') as f:\n",
    "  pkl.dump([X_train, y_train, X_test, y_test],f)\n",
    "with open('NMT_Etokenizer.pkl','wb') as f:\n",
    "  pkl.dump([vocab_size_source, Eword2index, englishTokenizer], f)\n",
    "with open('NMT_Mtokenizer.pkl', 'wb') as f:\n",
    "  pkl.dump([vocab_size_target, Mword2index, hindiTokenizer], f)\n",
    "X_train = np.array(X_train)\n",
    "y_train = np.array(y_train)\n",
    "X_test = np.array(X_test)\n",
    "y_test = np.array(y_test)"
   ]
  },
  {
   "cell_type": "markdown",
   "id": "7b9b4dea",
   "metadata": {},
   "source": [
    "## Model Building"
   ]
  },
  {
   "cell_type": "code",
   "execution_count": 223,
   "id": "b6e2c230",
   "metadata": {},
   "outputs": [],
   "source": [
    "import tensorflow as tf\n",
    "from tensorflow.python.keras import backend as K\n",
    "\n",
    "logger = tf.get_logger()\n",
    "\n",
    "class AttentionLayer(tf.keras.layers.Layer):\n",
    "    \"\"\"\n",
    "    This class implements Bahdanau attention (https://arxiv.org/pdf/1409.0473.pdf).\n",
    "    There are three sets of weights introduced W_a, U_a, and V_a\n",
    "     \"\"\"\n",
    "\n",
    "    def __init__(self, **kwargs):\n",
    "        super(AttentionLayer, self).__init__(**kwargs)\n",
    "\n",
    "    def build(self, input_shape):\n",
    "        assert isinstance(input_shape, list)\n",
    "        # Create a trainable weight variable for this layer.\n",
    "\n",
    "        self.W_a = self.add_weight(name='W_a',\n",
    "                                   shape=tf.TensorShape((input_shape[0][2], input_shape[0][2])),\n",
    "                                   initializer='uniform',\n",
    "                                   trainable=True)\n",
    "        self.U_a = self.add_weight(name='U_a',\n",
    "                                   shape=tf.TensorShape((input_shape[1][2], input_shape[0][2])),\n",
    "                                   initializer='uniform',\n",
    "                                   trainable=True)\n",
    "        self.V_a = self.add_weight(name='V_a',\n",
    "                                   shape=tf.TensorShape((input_shape[0][2], 1)),\n",
    "                                   initializer='uniform',\n",
    "                                   trainable=True)\n",
    "\n",
    "        super(AttentionLayer, self).build(input_shape)  # Be sure to call this at the end\n",
    "\n",
    "    def call(self, inputs):\n",
    "        \"\"\"\n",
    "        inputs: [encoder_output_sequence, decoder_output_sequence]\n",
    "        \"\"\"\n",
    "        assert type(inputs) == list\n",
    "        encoder_out_seq, decoder_out_seq = inputs\n",
    "\n",
    "        logger.debug(f\"encoder_out_seq.shape = {encoder_out_seq.shape}\")\n",
    "        logger.debug(f\"decoder_out_seq.shape = {decoder_out_seq.shape}\")\n",
    "\n",
    "        def energy_step(inputs, states):\n",
    "            \"\"\" Step function for computing energy for a single decoder state\n",
    "            inputs: (batchsize * 1 * de_in_dim)\n",
    "            states: (batchsize * 1 * de_latent_dim)\n",
    "            \"\"\"\n",
    "\n",
    "            logger.debug(\"Running energy computation step\")\n",
    "\n",
    "            if not isinstance(states, (list, tuple)):\n",
    "                raise TypeError(f\"States must be an iterable. Got {states} of type {type(states)}\")\n",
    "\n",
    "            encoder_full_seq = states[-1]\n",
    "\n",
    "            \"\"\" Computing S.Wa where S=[s0, s1, ..., si]\"\"\"\n",
    "            # <= batch size * en_seq_len * latent_dim\n",
    "            W_a_dot_s = K.dot(encoder_full_seq, self.W_a)\n",
    "\n",
    "            \"\"\" Computing hj.Ua \"\"\"\n",
    "            U_a_dot_h = K.expand_dims(K.dot(inputs, self.U_a), 1)  # <= batch_size, 1, latent_dim\n",
    "\n",
    "            logger.debug(f\"U_a_dot_h.shape = {U_a_dot_h.shape}\")\n",
    "\n",
    "            \"\"\" tanh(S.Wa + hj.Ua) \"\"\"\n",
    "            # <= batch_size*en_seq_len, latent_dim\n",
    "            Ws_plus_Uh = K.tanh(W_a_dot_s + U_a_dot_h)\n",
    "\n",
    "            logger.debug(f\"Ws_plus_Uh.shape = {Ws_plus_Uh.shape}\")\n",
    "\n",
    "            \"\"\" softmax(va.tanh(S.Wa + hj.Ua)) \"\"\"\n",
    "            # <= batch_size, en_seq_len\n",
    "            e_i = K.squeeze(K.dot(Ws_plus_Uh, self.V_a), axis=-1)\n",
    "            # <= batch_size, en_seq_len\n",
    "            e_i = K.softmax(e_i)\n",
    "\n",
    "            logger.debug(f\"ei.shape = {e_i.shape}\")\n",
    "\n",
    "            return e_i, [e_i]\n",
    "\n",
    "        def context_step(inputs, states):\n",
    "            \"\"\" Step function for computing ci using ei \"\"\"\n",
    "\n",
    "            logger.debug(\"Running attention vector computation step\")\n",
    "\n",
    "            if not isinstance(states, (list, tuple)):\n",
    "                raise TypeError(f\"States must be an iterable. Got {states} of type {type(states)}\")\n",
    "\n",
    "            encoder_full_seq = states[-1]\n",
    "\n",
    "            # <= batch_size, hidden_size\n",
    "            c_i = K.sum(encoder_full_seq * K.expand_dims(inputs, -1), axis=1)\n",
    "\n",
    "            logger.debug(f\"ci.shape = {c_i.shape}\")\n",
    "\n",
    "            return c_i, [c_i]\n",
    "\n",
    "        # we don't maintain states between steps when computing attention\n",
    "        # attention is stateless, so we're passing a fake state for RNN step function\n",
    "        fake_state_c = K.sum(encoder_out_seq, axis=1)\n",
    "        fake_state_e = K.sum(encoder_out_seq, axis=2)  # <= (batch_size, enc_seq_len, latent_dim\n",
    "\n",
    "        \"\"\" Computing energy outputs \"\"\"\n",
    "        # e_outputs => (batch_size, de_seq_len, en_seq_len)\n",
    "        last_out, e_outputs, _ = K.rnn(\n",
    "            energy_step, decoder_out_seq, [fake_state_e], constants=[encoder_out_seq]\n",
    "        )\n",
    "\n",
    "        \"\"\" Computing context vectors \"\"\"\n",
    "        last_out, c_outputs, _ = K.rnn(\n",
    "            context_step, e_outputs, [fake_state_c], constants=[encoder_out_seq]\n",
    "        )\n",
    "\n",
    "        return c_outputs, e_outputs\n",
    "\n",
    "    def compute_output_shape(self, input_shape):\n",
    "        \"\"\" Outputs produced by the layer \"\"\"\n",
    "        return [\n",
    "            tf.TensorShape((input_shape[1][0], input_shape[1][1], input_shape[1][2])),\n",
    "            tf.TensorShape((input_shape[1][0], input_shape[1][1], input_shape[0][1]))\n",
    "        ]"
   ]
  },
  {
   "cell_type": "code",
   "execution_count": 224,
   "id": "1d2225f0",
   "metadata": {},
   "outputs": [
    {
     "name": "stdout",
     "output_type": "stream",
     "text": [
      "You must install pydot (`pip install pydot`) and install graphviz (see instructions at https://graphviz.gitlab.io/download/) for plot_model to work.\n"
     ]
    }
   ],
   "source": [
    "latent_dim = 500\n",
    "# Encoder \n",
    "encoder_inputs = Input(shape=(max_length_english,)) \n",
    "enc_emb = Embedding(vocab_size_source, latent_dim,trainable=True)(encoder_inputs)\n",
    "#LSTM 1 \n",
    "encoder_lstm1 = LSTM(latent_dim,return_sequences=True,return_state=True) \n",
    "encoder_output1, state_h1, state_c1 = encoder_lstm1(enc_emb)\n",
    "#LSTM 2 \n",
    "encoder_lstm2 = LSTM(latent_dim,return_sequences=True,return_state=True) \n",
    "encoder_output2, state_h2, state_c2 = encoder_lstm2(encoder_output1)\n",
    "#LSTM 3 \n",
    "encoder_lstm3=LSTM(latent_dim, return_state=True, return_sequences=True) \n",
    "encoder_outputs, state_h, state_c= encoder_lstm3(encoder_output2)\n",
    "# Set up the decoder. \n",
    "decoder_inputs = Input(shape=(None,)) \n",
    "dec_emb_layer = Embedding(vocab_size_target, latent_dim,trainable=True) \n",
    "dec_emb = dec_emb_layer(decoder_inputs)\n",
    "#LSTM using encoder_states as initial state\n",
    "decoder_lstm = LSTM(latent_dim, return_sequences=True, return_state=True) \n",
    "decoder_outputs,decoder_fwd_state, decoder_back_state = decoder_lstm(dec_emb,initial_state=[state_h, state_c])\n",
    "#Attention Layer\n",
    "attn_layer = AttentionLayer(name='attention_layer') \n",
    "attn_out, attn_states = attn_layer([encoder_outputs, decoder_outputs])\n",
    "# Concat attention output and decoder LSTM output \n",
    "decoder_concat_input = Concatenate(axis=-1, name='concat_layer')([decoder_outputs, attn_out])\n",
    "#Dense layer\n",
    "decoder_dense = TimeDistributed(Dense(vocab_size_target, activation='softmax')) \n",
    "decoder_outputs = decoder_dense(decoder_concat_input)\n",
    "# Define the model\n",
    "model = Model([encoder_inputs, decoder_inputs], decoder_outputs) \n",
    "plot_model(model, to_file='train_model.png', show_shapes=True)"
   ]
  },
  {
   "cell_type": "code",
   "execution_count": 225,
   "id": "172b2fb5",
   "metadata": {},
   "outputs": [],
   "source": [
    "model.compile(optimizer='rmsprop',\n",
    "              loss='sparse_categorical_crossentropy', \n",
    "              metrics=['accuracy'])"
   ]
  },
  {
   "cell_type": "code",
   "execution_count": 226,
   "id": "3230f9cd",
   "metadata": {},
   "outputs": [],
   "source": [
    "# es = EarlyStopping(monitor='val_loss', mode='min', verbose=1)"
   ]
  },
  {
   "cell_type": "code",
   "execution_count": 227,
   "id": "965795ee",
   "metadata": {},
   "outputs": [
    {
     "name": "stdout",
     "output_type": "stream",
     "text": [
      "Epoch 1/20\n",
      "42/42 [==============================] - 73s 2s/step - loss: 2.5568 - accuracy: 0.6857 - val_loss: 1.7802 - val_accuracy: 0.7189\n",
      "Epoch 2/20\n",
      "42/42 [==============================] - 54s 1s/step - loss: 1.9258 - accuracy: 0.7065 - val_loss: 1.7787 - val_accuracy: 0.7182\n",
      "Epoch 3/20\n",
      "42/42 [==============================] - 54s 1s/step - loss: 1.8294 - accuracy: 0.7181 - val_loss: 1.6110 - val_accuracy: 0.7522\n",
      "Epoch 4/20\n",
      "42/42 [==============================] - 54s 1s/step - loss: 1.7286 - accuracy: 0.7417 - val_loss: 1.5749 - val_accuracy: 0.7557\n",
      "Epoch 5/20\n",
      "42/42 [==============================] - 56s 1s/step - loss: 1.6975 - accuracy: 0.7428 - val_loss: 1.5582 - val_accuracy: 0.7565\n",
      "Epoch 6/20\n",
      "42/42 [==============================] - 56s 1s/step - loss: 1.6853 - accuracy: 0.7429 - val_loss: 1.5458 - val_accuracy: 0.7565\n",
      "Epoch 7/20\n",
      "42/42 [==============================] - 58s 1s/step - loss: 1.6694 - accuracy: 0.7437 - val_loss: 1.5283 - val_accuracy: 0.7596\n",
      "Epoch 8/20\n",
      "42/42 [==============================] - 59s 1s/step - loss: 1.6513 - accuracy: 0.7442 - val_loss: 1.5265 - val_accuracy: 0.7584\n",
      "Epoch 9/20\n",
      "42/42 [==============================] - 58s 1s/step - loss: 1.6323 - accuracy: 0.7451 - val_loss: 1.5130 - val_accuracy: 0.7594\n",
      "Epoch 10/20\n",
      "42/42 [==============================] - 56s 1s/step - loss: 1.6076 - accuracy: 0.7469 - val_loss: 1.4904 - val_accuracy: 0.7599\n",
      "Epoch 11/20\n",
      "42/42 [==============================] - 56s 1s/step - loss: 1.5886 - accuracy: 0.7486 - val_loss: 1.4783 - val_accuracy: 0.7642\n",
      "Epoch 12/20\n",
      "42/42 [==============================] - 56s 1s/step - loss: 1.5677 - accuracy: 0.7503 - val_loss: 1.4727 - val_accuracy: 0.7646\n",
      "Epoch 13/20\n",
      "42/42 [==============================] - 57s 1s/step - loss: 1.5460 - accuracy: 0.7522 - val_loss: 1.4604 - val_accuracy: 0.7673\n",
      "Epoch 14/20\n",
      "42/42 [==============================] - 57s 1s/step - loss: 1.5278 - accuracy: 0.7533 - val_loss: 1.4567 - val_accuracy: 0.7665\n",
      "Epoch 15/20\n",
      "42/42 [==============================] - 57s 1s/step - loss: 1.5080 - accuracy: 0.7551 - val_loss: 1.4589 - val_accuracy: 0.7652\n",
      "Epoch 16/20\n",
      "42/42 [==============================] - 59s 1s/step - loss: 1.4921 - accuracy: 0.7558 - val_loss: 1.4348 - val_accuracy: 0.7696\n",
      "Epoch 17/20\n",
      "42/42 [==============================] - 62s 1s/step - loss: 1.4735 - accuracy: 0.7569 - val_loss: 1.4295 - val_accuracy: 0.7696\n",
      "Epoch 18/20\n",
      "42/42 [==============================] - 69s 2s/step - loss: 1.4570 - accuracy: 0.7584 - val_loss: 1.4276 - val_accuracy: 0.7704\n",
      "Epoch 19/20\n",
      "42/42 [==============================] - 69s 2s/step - loss: 1.4410 - accuracy: 0.7593 - val_loss: 1.4226 - val_accuracy: 0.7722\n",
      "Epoch 20/20\n",
      "42/42 [==============================] - 70s 2s/step - loss: 1.4228 - accuracy: 0.7604 - val_loss: 1.4480 - val_accuracy: 0.7663\n"
     ]
    }
   ],
   "source": [
    "history = model.fit([X_train, y_train[:,:-1]], y_train.reshape(y_train.shape[0], y_train.shape[1],1)[:,1:], \n",
    "                    epochs=20,\n",
    "                    batch_size=64,\n",
    "                    validation_data = ([X_test, y_test[:,:-1]],           \n",
    "                    y_test.reshape(y_test.shape[0], y_test.shape[1], 1)[:,1:]))"
   ]
  },
  {
   "cell_type": "code",
   "execution_count": 228,
   "id": "d65dbb31",
   "metadata": {},
   "outputs": [
    {
     "name": "stdout",
     "output_type": "stream",
     "text": [
      "Model: \"model_3\"\n",
      "__________________________________________________________________________________________________\n",
      " Layer (type)                   Output Shape         Param #     Connected to                     \n",
      "==================================================================================================\n",
      " input_7 (InputLayer)           [(None, 22)]         0           []                               \n",
      "                                                                                                  \n",
      " embedding_6 (Embedding)        (None, 22, 500)      1136500     ['input_7[0][0]']                \n",
      "                                                                                                  \n",
      " lstm_12 (LSTM)                 [(None, 22, 500),    2002000     ['embedding_6[0][0]']            \n",
      "                                 (None, 500),                                                     \n",
      "                                 (None, 500)]                                                     \n",
      "                                                                                                  \n",
      " input_8 (InputLayer)           [(None, None)]       0           []                               \n",
      "                                                                                                  \n",
      " lstm_13 (LSTM)                 [(None, 22, 500),    2002000     ['lstm_12[0][0]']                \n",
      "                                 (None, 500),                                                     \n",
      "                                 (None, 500)]                                                     \n",
      "                                                                                                  \n",
      " embedding_7 (Embedding)        (None, None, 500)    1448000     ['input_8[0][0]']                \n",
      "                                                                                                  \n",
      " lstm_14 (LSTM)                 [(None, 22, 500),    2002000     ['lstm_13[0][0]']                \n",
      "                                 (None, 500),                                                     \n",
      "                                 (None, 500)]                                                     \n",
      "                                                                                                  \n",
      " lstm_15 (LSTM)                 [(None, None, 500),  2002000     ['embedding_7[0][0]',            \n",
      "                                 (None, 500),                     'lstm_14[0][1]',                \n",
      "                                 (None, 500)]                     'lstm_14[0][2]']                \n",
      "                                                                                                  \n",
      " attention_layer (AttentionLaye  ((None, None, 500),  500500     ['lstm_14[0][0]',                \n",
      " r)                              (None, None, 22))                'lstm_15[0][0]']                \n",
      "                                                                                                  \n",
      " concat_layer (Concatenate)     (None, None, 1000)   0           ['lstm_15[0][0]',                \n",
      "                                                                  'attention_layer[0][0]']        \n",
      "                                                                                                  \n",
      " time_distributed_3 (TimeDistri  (None, None, 2896)  2898896     ['concat_layer[0][0]']           \n",
      " buted)                                                                                           \n",
      "                                                                                                  \n",
      "==================================================================================================\n",
      "Total params: 13,991,896\n",
      "Trainable params: 13,991,896\n",
      "Non-trainable params: 0\n",
      "__________________________________________________________________________________________________\n"
     ]
    }
   ],
   "source": [
    "model.summary()"
   ]
  },
  {
   "cell_type": "code",
   "execution_count": 229,
   "id": "d70f3777",
   "metadata": {},
   "outputs": [
    {
     "data": {
      "image/png": "[encoded data removed]",
      "text/plain": [
       "<Figure size 432x288 with 1 Axes>"
      ]
     },
     "metadata": {
      "needs_background": "light"
     },
     "output_type": "display_data"
    }
   ],
   "source": [
    "from matplotlib import pyplot \n",
    "pyplot.plot(history.history['loss'], label='train') \n",
    "pyplot.plot(history.history['val_loss'], label='test') \n",
    "pyplot.legend() \n",
    "pyplot.show()"
   ]
  },
  {
   "cell_type": "code",
   "execution_count": 230,
   "id": "e249b45d",
   "metadata": {},
   "outputs": [
    {
     "name": "stdout",
     "output_type": "stream",
     "text": [
      "Saved model to disk\n"
     ]
    }
   ],
   "source": [
    "model_json = model.to_json()\n",
    "with open(\"NMT_model.json\", \"w\") as json_file:\n",
    "    json_file.write(model_json)\n",
    "# serialize weights to HDF5\n",
    "model.save_weights(\"NMT_model_weight.h5\")\n",
    "print(\"Saved model to disk\")"
   ]
  },
  {
   "cell_type": "code",
   "execution_count": 231,
   "id": "7e120dcd",
   "metadata": {},
   "outputs": [],
   "source": [
    "# loading the model architecture and asigning the weights\n",
    "json_file = open('NMT_model.json', 'r')\n",
    "loaded_model_json = json_file.read()\n",
    "json_file.close()\n",
    "model_loaded = model_from_json(loaded_model_json, custom_objects={'AttentionLayer': AttentionLayer})\n",
    "# load weights into new model\n",
    "model_loaded.load_weights(\"NMT_model_weight.h5\")\n"
   ]
  },
  {
   "cell_type": "code",
   "execution_count": 302,
   "id": "1fddfc56",
   "metadata": {},
   "outputs": [],
   "source": [
    "latent_dim=500\n",
    "# encoder inference\n",
    "encoder_inputs = model_loaded.input[0]  #loading encoder_inputs\n",
    "encoder_outputs, state_h, state_c = model_loaded.layers[6].output #loading encoder_outputs\n",
    "#print(encoder_outputs.shape)\n",
    "encoder_model = Model(inputs=encoder_inputs,outputs=[encoder_outputs, state_h, state_c])\n",
    "# decoder inference\n",
    "# Below tensors will hold the states of the previous time step\n",
    "decoder_state_input_h = Input(shape=(latent_dim,))\n",
    "decoder_state_input_c = Input(shape=(latent_dim,))\n",
    "decoder_hidden_state_input = Input(shape=(22,latent_dim))\n",
    "# Get the embeddings of the decoder sequence\n",
    "decoder_inputs = model_loaded.layers[3].output\n",
    "#print(decoder_inputs.shape)\n",
    "dec_emb_layer = model_loaded.layers[5]\n",
    "dec_emb2= dec_emb_layer(decoder_inputs)\n",
    "# To predict the next word in the sequence, set the initial states to the states from the previous time step\n",
    "decoder_lstm = model_loaded.layers[7]\n",
    "decoder_outputs2, state_h2, state_c2 = decoder_lstm(dec_emb2, initial_state=[decoder_state_input_h, decoder_state_input_c])\n",
    "#attention inference\n",
    "attn_layer = model_loaded.layers[8]\n",
    "attn_out_inf, attn_states_inf = attn_layer([decoder_hidden_state_input, decoder_outputs2])\n",
    "concate = model_loaded.layers[9]\n",
    "decoder_inf_concat = concate([decoder_outputs2, attn_out_inf])\n",
    "# A dense softmax layer to generate prob dist. over the target vocabulary\n",
    "decoder_dense = model_loaded.layers[10]\n",
    "decoder_outputs2 = decoder_dense(decoder_inf_concat)\n",
    "# Final decoder model\n",
    "decoder_model = Model(\n",
    "[decoder_inputs] + [decoder_hidden_state_input,decoder_state_input_h, decoder_state_input_c],\n",
    "[decoder_outputs2] + [state_h2, state_c2])"
   ]
  },
  {
   "cell_type": "code",
   "execution_count": 307,
   "id": "1d0d7b1e",
   "metadata": {},
   "outputs": [],
   "source": [
    "def decode_sequence(input_seq):\n",
    "    # Encode the input as state vectors.\n",
    "    e_out, e_h, e_c = encoder_model.predict(input_seq)\n",
    "    \n",
    "    # Generate an empty target sequence of length 1.\n",
    "    target_seq = np.zeros((1, 1))\n",
    "    \n",
    "    # Choose the 'start' word as the first word of the target sequence.\n",
    "    target_seq[0, 0] = Mword2index['start']\n",
    "    \n",
    "    stop_condition = False\n",
    "    decoded_sentence = ''\n",
    "    \n",
    "    while not stop_condition:\n",
    "        output_tokens, h, c = decoder_model.predict([target_seq] + [e_out, e_h, e_c])\n",
    "        \n",
    "        # Sample a token\n",
    "        sampled_token_index = np.argmax(output_tokens[0, -1, :])\n",
    "        sampled_token = Mindex2word[sampled_token_index]\n",
    "        \n",
    "        if sampled_token != 'end':\n",
    "            decoded_sentence += ' ' + sampled_token\n",
    "        \n",
    "        # Exit condition: either hit max length or find stop word.\n",
    "        if sampled_token == 'end' or len(decoded_sentence.split()) >= (21 - 1):\n",
    "            stop_condition = True\n",
    "        \n",
    "        # Update the target sequence (of length 1).\n",
    "        target_seq = np.zeros((1, 1))\n",
    "        target_seq[0, 0] = sampled_token_index\n",
    "        \n",
    "        # Update internal states\n",
    "        e_h, e_c = h, c\n",
    "    \n",
    "    return decoded_sentence\n"
   ]
  },
  {
   "cell_type": "code",
   "execution_count": 308,
   "id": "02ae5232",
   "metadata": {},
   "outputs": [],
   "source": [
    "Eindex2word = englishTokenizer.index_word\n",
    "Mindex2word = hindiTokenizer.index_word"
   ]
  },
  {
   "cell_type": "code",
   "execution_count": 309,
   "id": "e24b2155",
   "metadata": {},
   "outputs": [],
   "source": [
    "def seq2summary(input_seq):\n",
    "    newString=''\n",
    "    for i in input_seq:\n",
    "      if((i!=0 and i!=Mword2index['start']) and i!=Mword2index['end']):\n",
    "        newString=newString+Mindex2word[i]+' '\n",
    "    return newString\n",
    "def seq2text(input_seq):\n",
    "    newString=''\n",
    "    for i in input_seq:\n",
    "      if(i!=0):\n",
    "        newString=newString+Eindex2word[i]+' '\n",
    "    return newString"
   ]
  },
  {
   "cell_type": "code",
   "execution_count": 310,
   "id": "547ffe58",
   "metadata": {},
   "outputs": [
    {
     "name": "stdout",
     "output_type": "stream",
     "text": [
      "Review: we dont know where we are \n",
      "Original summary: हमें नहीं पता हम कहाँ हैं। \n",
      "1/1 [==============================] - 0s 38ms/step\n",
      "1/1 [==============================] - 0s 29ms/step\n",
      "1/1 [==============================] - 0s 26ms/step\n",
      "1/1 [==============================] - 0s 29ms/step\n",
      "1/1 [==============================] - 0s 25ms/step\n",
      "1/1 [==============================] - 0s 31ms/step\n",
      "1/1 [==============================] - 0s 31ms/step\n",
      "1/1 [==============================] - 0s 31ms/step\n",
      "1/1 [==============================] - 0s 37ms/step\n",
      "1/1 [==============================] - 0s 18ms/step\n",
      "Predicted summary:  हम बहुत बहुत बहुत बहुत बहुत बहुत हैं।\n",
      "\n",
      "\n",
      "Review: they abandoned their country \n",
      "Original summary: उन्होंने अपने देश को दिया। \n",
      "1/1 [==============================] - 0s 42ms/step\n",
      "1/1 [==============================] - 0s 19ms/step\n",
      "1/1 [==============================] - 0s 23ms/step\n",
      "1/1 [==============================] - 0s 31ms/step\n",
      "1/1 [==============================] - 0s 33ms/step\n",
      "1/1 [==============================] - 0s 34ms/step\n",
      "1/1 [==============================] - 0s 29ms/step\n",
      "1/1 [==============================] - 0s 41ms/step\n",
      "1/1 [==============================] - 0s 33ms/step\n",
      "Predicted summary:  हम बहुत बहुत बहुत बहुत बहुत हैं।\n",
      "\n",
      "\n",
      "Review: he is less than his father \n",
      "Original summary: उसके पिता जितनी नहीं है। \n",
      "1/1 [==============================] - 0s 39ms/step\n",
      "1/1 [==============================] - 0s 38ms/step\n",
      "1/1 [==============================] - 0s 26ms/step\n",
      "1/1 [==============================] - 0s 30ms/step\n",
      "1/1 [==============================] - 0s 31ms/step\n",
      "1/1 [==============================] - 0s 32ms/step\n",
      "1/1 [==============================] - 0s 30ms/step\n",
      "1/1 [==============================] - 0s 29ms/step\n",
      "1/1 [==============================] - 0s 31ms/step\n",
      "1/1 [==============================] - 0s 16ms/step\n",
      "Predicted summary:  वह पास बहुत बहुत बहुत बहुत नहीं है।\n",
      "\n",
      "\n",
      "Review: who was the letter written to \n",
      "Original summary: पत्र किसको लिखा गया था \n",
      "1/1 [==============================] - 0s 31ms/step\n",
      "1/1 [==============================] - 0s 16ms/step\n",
      "1/1 [==============================] - 0s 29ms/step\n",
      "1/1 [==============================] - 0s 30ms/step\n",
      "1/1 [==============================] - 0s 30ms/step\n",
      "1/1 [==============================] - 0s 30ms/step\n",
      "1/1 [==============================] - 0s 31ms/step\n",
      "1/1 [==============================] - 0s 36ms/step\n",
      "1/1 [==============================] - 0s 31ms/step\n",
      "1/1 [==============================] - 0s 31ms/step\n",
      "Predicted summary:  वह बहुत बहुत बहुत बहुत बहुत बहुत है।\n",
      "\n",
      "\n",
      "Review: no in sight \n",
      "Original summary: आसपास कोई नहीं है। \n",
      "1/1 [==============================] - 0s 69ms/step\n",
      "1/1 [==============================] - 0s 17ms/step\n",
      "1/1 [==============================] - 0s 22ms/step\n",
      "1/1 [==============================] - 0s 31ms/step\n",
      "1/1 [==============================] - 0s 32ms/step\n",
      "1/1 [==============================] - 0s 30ms/step\n",
      "1/1 [==============================] - 0s 22ms/step\n",
      "Predicted summary:  वह बहुत बहुत बहुत है।\n",
      "\n",
      "\n",
      "Review: he was buried in this graveyard \n",
      "Original summary: उसको इस कब्रिस्तान में बरी किया गया था। \n",
      "1/1 [==============================] - 0s 35ms/step\n",
      "1/1 [==============================] - 0s 56ms/step\n",
      "1/1 [==============================] - 0s 31ms/step\n",
      "1/1 [==============================] - 0s 16ms/step\n",
      "1/1 [==============================] - 0s 17ms/step\n",
      "1/1 [==============================] - 0s 24ms/step\n",
      "1/1 [==============================] - 0s 30ms/step\n",
      "1/1 [==============================] - 0s 31ms/step\n",
      "1/1 [==============================] - 0s 33ms/step\n",
      "1/1 [==============================] - 0s 30ms/step\n",
      "Predicted summary:  वह एक बहुत बहुत बहुत बहुत बहुत है।\n",
      "\n",
      "\n",
      "Review: he is after a job \n",
      "Original summary: वह किसी नौकरी के पीछे है। \n",
      "1/1 [==============================] - 0s 40ms/step\n",
      "1/1 [==============================] - 0s 23ms/step\n",
      "1/1 [==============================] - 0s 31ms/step\n",
      "1/1 [==============================] - 0s 40ms/step\n",
      "1/1 [==============================] - 0s 31ms/step\n",
      "1/1 [==============================] - 0s 31ms/step\n",
      "1/1 [==============================] - 0s 30ms/step\n",
      "1/1 [==============================] - 0s 31ms/step\n",
      "1/1 [==============================] - 0s 34ms/step\n",
      "Predicted summary:  वह बहुत बहुत बहुत बहुत बहुत है।\n",
      "\n",
      "\n",
      "Review: how about the taste \n",
      "Original summary: और स्वाद कैसा है \n",
      "1/1 [==============================] - 0s 41ms/step\n",
      "1/1 [==============================] - 0s 30ms/step\n",
      "1/1 [==============================] - 0s 30ms/step\n",
      "1/1 [==============================] - 0s 29ms/step\n",
      "1/1 [==============================] - 0s 30ms/step\n",
      "1/1 [==============================] - 0s 31ms/step\n",
      "1/1 [==============================] - 0s 29ms/step\n",
      "1/1 [==============================] - 0s 18ms/step\n",
      "1/1 [==============================] - 0s 36ms/step\n",
      "Predicted summary:  वह बहुत बहुत बहुत बहुत बहुत है।\n",
      "\n",
      "\n",
      "Review: tom \n",
      "Original summary: टॉम ने ली । \n",
      "1/1 [==============================] - 0s 35ms/step\n",
      "1/1 [==============================] - 0s 31ms/step\n",
      "1/1 [==============================] - 0s 39ms/step\n",
      "1/1 [==============================] - 0s 24ms/step\n",
      "1/1 [==============================] - 0s 31ms/step\n",
      "1/1 [==============================] - 0s 31ms/step\n",
      "Predicted summary:  यह बहुत बहुत है।\n",
      "\n",
      "\n",
      "Review: were you shot \n",
      "Original summary: क्या तुम्हें गोली लग गई थी \n",
      "1/1 [==============================] - 0s 48ms/step\n",
      "1/1 [==============================] - 0s 49ms/step\n",
      "1/1 [==============================] - 0s 45ms/step\n",
      "1/1 [==============================] - 0s 33ms/step\n",
      "1/1 [==============================] - 0s 25ms/step\n",
      "1/1 [==============================] - 0s 35ms/step\n",
      "1/1 [==============================] - 0s 50ms/step\n",
      "1/1 [==============================] - 0s 33ms/step\n",
      "Predicted summary:  वह बहुत बहुत बहुत बहुत है।\n",
      "\n",
      "\n"
     ]
    }
   ],
   "source": [
    "for i in range(10):  \n",
    "  print(\"Review:\",seq2text(X_test[i]))\n",
    "  print(\"Original summary:\",seq2summary(y_test[i]))\n",
    "  print(\"Predicted summary:\",decode_sequence(X_test[i].reshape(1,22)))\n",
    "  print(\"\\n\")"
   ]
  },
  {
   "cell_type": "code",
   "execution_count": null,
   "id": "8d537fc4",
   "metadata": {},
   "outputs": [],
   "source": []
  }
 ],
 "metadata": {
  "kernelspec": {
   "display_name": "Python 3 (ipykernel)",
   "language": "python",
   "name": "python3"
  },
  "language_info": {
   "codemirror_mode": {
    "name": "ipython",
    "version": 3
   },
   "file_extension": ".py",
   "mimetype": "text/x-python",
   "name": "python",
   "nbconvert_exporter": "python",
   "pygments_lexer": "ipython3",
   "version": "3.9.12"
  }
 },
 "nbformat": 4,
 "nbformat_minor": 5
}
