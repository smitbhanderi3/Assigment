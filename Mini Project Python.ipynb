{
 "cells": [
  {
   "cell_type": "code",
   "execution_count": null,
   "id": "0932f64f",
   "metadata": {},
   "outputs": [],
   "source": [
    "# Mini project : \n",
    "        #Problem Statement : Password Generator \n",
    "#Make a program to generate a strong password using the input given by the user. To generate a password, \n",
    "#randomly take some words from the user input and then include numbers, special characters and capital \n",
    "#letters to generate the password. Also, keep a check that password length is more than 8 characters. \n",
    "#Note: Include Exception handling wherever required. Also, make a ‘User’ class and store the details like user \n",
    "#id, name and password of each user as a tuple. "
   ]
  },
  {
   "cell_type": "code",
   "execution_count": 16,
   "id": "6e3d5098",
   "metadata": {},
   "outputs": [
    {
     "name": "stdout",
     "output_type": "stream",
     "text": [
      " 6ywn4OqRA|FW\n"
     ]
    }
   ],
   "source": [
    "password_length = 12\n",
    "\n",
    "DIGITS = ['0', '1', '2', '3', '4', '5', '6', '7', '8', '9']\n",
    "LOCASE_CHARACTERS = ['a', 'b', 'c', 'd', 'e', 'f', 'g', 'h','i', 'j', 'k', 'm', 'n', 'o', 'p', 'q','r', 's', 't', 'u', 'v', 'w',\n",
    "                     'x', 'y','z']\n",
    "\n",
    "UPCASE_CHARACTERS = ['A', 'B', 'C', 'D', 'E', 'F', 'G', 'H','I', 'J', 'K', 'M', 'N', 'O', 'P', 'Q','R', 'S', 'T', 'U', 'V', 'W'\n",
    "                     , 'X', 'Y','Z']\n",
    "\n",
    "SYMBOLS = ['@', '#', '$', '%', '=', ':', '?', '.', '/', '|', '~', '>',\n",
    "'*', '(', ')', '<']\n",
    "\n",
    "Make_password = DIGITS + UPCASE_CHARACTERS + LOCASE_CHARACTERS + SYMBOLS\n",
    "\n",
    "\n",
    "random_digit = random.choice(DIGITS)\n",
    "random_upper = random.choice(UPCASE_CHARACTERS)\n",
    "random_lower = random.choice(LOCASE_CHARACTERS)\n",
    "random_symbol = random.choice(SYMBOLS)\n",
    "\n",
    "\n",
    "temp_pass = random_digit + random_upper + random_lower + random_symbol\n",
    "\n",
    "\n",
    "\n",
    "for x in range(MAX_LEN - 4):\n",
    "    temp_pass = temp_pass + random.choice(Make_password)\n",
    "\n",
    "\n",
    "temp_pass_list = array.array('u', temp_pass)\n",
    "random.shuffle(temp_pass_list)\n",
    "\n",
    "\n",
    "password = \" \"\n",
    "for x in temp_pass_list:\n",
    "    password = password + x\n",
    "\n",
    "print(password)\n"
   ]
  },
  {
   "cell_type": "code",
   "execution_count": null,
   "id": "3f762c43",
   "metadata": {},
   "outputs": [],
   "source": []
  },
  {
   "cell_type": "code",
   "execution_count": null,
   "id": "f36f1eec",
   "metadata": {},
   "outputs": [],
   "source": []
  }
 ],
 "metadata": {
  "kernelspec": {
   "display_name": "Python 3 (ipykernel)",
   "language": "python",
   "name": "python3"
  },
  "language_info": {
   "codemirror_mode": {
    "name": "ipython",
    "version": 3
   },
   "file_extension": ".py",
   "mimetype": "text/x-python",
   "name": "python",
   "nbconvert_exporter": "python",
   "pygments_lexer": "ipython3",
   "version": "3.9.12"
  }
 },
 "nbformat": 4,
 "nbformat_minor": 5
}
