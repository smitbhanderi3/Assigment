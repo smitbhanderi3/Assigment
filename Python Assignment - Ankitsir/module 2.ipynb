{
 "cells": [
  {
   "cell_type": "code",
   "execution_count": null,
   "id": "53bdee19",
   "metadata": {},
   "outputs": [],
   "source": [
    "## 1) write a python program to chack if a number is postive, negative or zero\n",
    "\n",
    "num=int(input('enter number '))\n",
    "\n",
    "if num > 0:\n",
    "    print(\"num, is positive\")\n",
    "elif num == 0:\n",
    "    print(\"num, is zero\")\n",
    "else:\n",
    "    print(\"num, is negative \")"
   ]
  },
  {
   "cell_type": "code",
   "execution_count": null,
   "id": "651c0868",
   "metadata": {},
   "outputs": [],
   "source": [
    "#2)write a phython program to get the factorial number of given number.\n",
    "\n",
    "num=int(input(\"enter number\"))\n",
    "fac=1\n",
    "while (num>0):\n",
    "      fac=fac*num\n",
    "      num=num-1\n",
    "print(\"factorial=\",fac)\n",
    "      "
   ]
  },
  {
   "cell_type": "code",
   "execution_count": null,
   "id": "1e2dd652",
   "metadata": {},
   "outputs": [],
   "source": [
    "#3) write a python program to get the fibonacci of given range.\n",
    "\n",
    "i=int(input(\"enter number\"))\n",
    "while i>0:\n",
    "    c=a+b\n",
    "    print(f' {c}')\n",
    "    a=b\n",
    "    b=c\n",
    "    i+=1"
   ]
  },
  {
   "cell_type": "code",
   "execution_count": null,
   "id": "4f659f57",
   "metadata": {},
   "outputs": [],
   "source": [
    "#4) how memory in managed in python?\n",
    "#-> #The management of this private heap is ensured internally by the Python memory manager.\n",
    "\n"
   ]
  },
  {
   "cell_type": "code",
   "execution_count": null,
   "id": "a9517e0e",
   "metadata": {},
   "outputs": [],
   "source": [
    "#5)what is the purpose contiune statement in python?\n",
    "# the continue statment in python returne the control to the begining of the while loop.\n"
   ]
  },
  {
   "cell_type": "code",
   "execution_count": null,
   "id": "b917968d",
   "metadata": {},
   "outputs": [],
   "source": [
    "#6)write a python program that swap number with temp variable and  without temp veriable.\n",
    "#swapping \n",
    "\n",
    "a=int(input(\"enter the value for a\"))\n",
    "b=int(input(\"enter the value for b\"))\n",
    "temp=a\n",
    "a=b\n",
    "b=temp\n",
    "print(\"after swapping\")\n",
    "print(\"value of a:\",a)\n",
    "print(\"value of b:\",b)"
   ]
  },
  {
   "cell_type": "code",
   "execution_count": null,
   "id": "b38a867e",
   "metadata": {},
   "outputs": [],
   "source": [
    "#7)write a python pprogram to find whether a given number is even or odd,print out an appropriate massege to the user.\n",
    "\n",
    "num=int(input(\"enter the whether number\"))\n",
    "if (num%2==0):\n",
    "    print(\"num is even\")\n",
    "else:\n",
    "    print(\"num is odd \")"
   ]
  },
  {
   "cell_type": "code",
   "execution_count": null,
   "id": "23b0012b",
   "metadata": {},
   "outputs": [],
   "source": [
    "#8) write a python program to test whether a passed letter is a vowel or not.\n",
    "\n",
    "x=input(\"enter the sentence\")\n",
    "count = 0\n",
    "for i in x:\n",
    "    if i==\"a\"or i==\"e\"or i==\"i\"or i==\"i\"or i==\"o\"or i==\"u\":\n",
    "        print(\"vowel is found\")\n",
    "else:\n",
    "    print(\"vowel is not found\")\n"
   ]
  },
  {
   "cell_type": "code",
   "execution_count": null,
   "id": "da6f60e3",
   "metadata": {},
   "outputs": [],
   "source": [
    "#9) write a python program to sum of three given integer.however ,if two  vlaue are equle sum will be zero\n",
    "\n",
    "def sum(x,y,z):\n",
    "    if x==y or y==z or x==z:\n",
    "        sum=0\n",
    "    else:\n",
    "        sum=x+y+z\n",
    "    return sum\n",
    "print(sum(2,2,2))\n",
    "print(sum(2,3,2))\n",
    "print(sum(3,4,5))"
   ]
  },
  {
   "cell_type": "code",
   "execution_count": null,
   "id": "6526b0e7",
   "metadata": {},
   "outputs": [],
   "source": [
    "#10)write a python program that will return true if the two given ingervalue are equal or their sum of difference is 5.\n",
    "\n",
    "def sum (x,y):\n",
    "    if x==y or abs(x-y)==5 or (x+y)==5:\n",
    "        return True\n",
    "    else:\n",
    "        return False\n",
    "print(sum(7,2))\n",
    "print(sum(3,2))"
   ]
  },
  {
   "cell_type": "code",
   "execution_count": null,
   "id": "2f74396a",
   "metadata": {},
   "outputs": [],
   "source": [
    "#11) write a python program tto su, of the first n positive inrwgeras.\n",
    "\n",
    "n=int(input(\"enter the number\"))\n",
    "\n",
    "sum = (n*(n+1))//2\n",
    "print(sum)"
   ]
  },
  {
   "cell_type": "code",
   "execution_count": 1,
   "id": "06d633fd",
   "metadata": {},
   "outputs": [
    {
     "name": "stdout",
     "output_type": "stream",
     "text": [
      "8\n"
     ]
    }
   ],
   "source": [
    "#12) write a python program to caclulet the lenth of a string.\n",
    "\n",
    "str=\"wellcome\"\n",
    "count=0\n",
    "while str[count:]:\n",
    "    count=count+1\n",
    "print(count)\n",
    "\n",
    "\n"
   ]
  },
  {
   "cell_type": "code",
   "execution_count": null,
   "id": "1d6f9d18",
   "metadata": {},
   "outputs": [],
   "source": [
    "#13) wrtie a  program to count the number of cheractars in a string.\n",
    "\n",
    "str1 = input(\"enter the string\")\n",
    "d1=dict()\n",
    "for c in str1:\n",
    "    if c in d1:\n",
    "        d1[c] = d1[c]+1\n",
    "    else:\n",
    "         d1[c]=1\n",
    "print(d1)\n",
    "\n"
   ]
  },
  {
   "cell_type": "code",
   "execution_count": null,
   "id": "d0d8cc7f",
   "metadata": {},
   "outputs": [],
   "source": [
    "#14) what are nagetive indexes and why are they  uesd?\n",
    "\n",
    "\n",
    "  "
   ]
  },
  {
   "cell_type": "code",
   "execution_count": null,
   "id": "93c07053",
   "metadata": {},
   "outputs": [],
   "source": [
    "#15)Write a Python program to count occurrences of a substring in a string.\n",
    "\n",
    "str='smit and parth in one classroom'\n",
    "\n",
    "print('Number of occurrence of s:', str.count('s'))\n"
   ]
  },
  {
   "cell_type": "code",
   "execution_count": null,
   "id": "09737cd5",
   "metadata": {},
   "outputs": [],
   "source": [
    "#16)Write a Python program to count the occurrences of each word in a given sentence.\n",
    "\n",
    "str=input(\"enter line of string\")\n",
    "str=str.split()\n",
    "i=0\n",
    "count=0\n",
    "while i<len(str):\n",
    "    count=0\n",
    "    for j in str:\n",
    "        if str[i]==j:\n",
    "            count=count+1\n",
    "    print(str[i],\"present\",count,\"times\")\n",
    "\n",
    "\n"
   ]
  },
  {
   "cell_type": "code",
   "execution_count": 2,
   "id": "009d6bd3",
   "metadata": {},
   "outputs": [
    {
     "name": "stdout",
     "output_type": "stream",
     "text": [
      "rscd abtu\n"
     ]
    }
   ],
   "source": [
    "#17)write a python program to get a singal string from two given string,speparated by a spece and swap the first two chracters of each string.\n",
    "\n",
    "v2,v1=\"abcd\",\"rstu\"\n",
    "temp=v2\n",
    "v2=v1[0:2]+v2[2:]\n",
    "v1=temp[0:2]+v1[2:]\n",
    "print(v2+' '+v1)"
   ]
  },
  {
   "cell_type": "code",
   "execution_count": 23,
   "id": "803270ad",
   "metadata": {},
   "outputs": [
    {
     "name": "stdout",
     "output_type": "stream",
     "text": [
      "abcing\n"
     ]
    }
   ],
   "source": [
    "#18) Write a Python program to add 'ing' at the end of a given string (length\n",
    "#should be at least 3). If the given string already ends with 'ing' then add 'ly'\n",
    "#insteadif the string length of the given string is less than 3, leave it\n",
    "#unchanged.\n",
    "\n",
    "str=\"abc\"\n",
    "if len(str) > 2:\n",
    "    if str.endswith('ing'):\n",
    "        str +='ly'\n",
    "    else:\n",
    "        str += 'ing'\n",
    "print(str)"
   ]
  },
  {
   "cell_type": "code",
   "execution_count": 29,
   "id": "d4d4cd6e",
   "metadata": {},
   "outputs": [
    {
     "name": "stdout",
     "output_type": "stream",
     "text": [
      "the lyrics is good\n"
     ]
    }
   ],
   "source": [
    "#19)Write a Python program to find the first appearance of the substring 'not'\n",
    "#and 'poor' froma given string, if 'not' follows the 'poor', replace the whole\n",
    "#'not'...'poor'substring with 'good'. Return the resulting string.\n",
    "\n",
    "str='the lyrics is not that poor'\n",
    "i_not = str.find(\"not\")\n",
    "i_poor= str.find(\"poor\")\n",
    "\n",
    "if i_not<i_poor:\n",
    "    print(str[:i_not]+\"good\")\n",
    "\n",
    "\n"
   ]
  },
  {
   "cell_type": "code",
   "execution_count": 38,
   "id": "1447aa9a",
   "metadata": {},
   "outputs": [
    {
     "name": "stdout",
     "output_type": "stream",
     "text": [
      "enter line of stringhello how are you\n",
      "largest string lenth = 1\n"
     ]
    }
   ],
   "source": [
    "#20)Write a Python function that takes a list of words and returns the length\n",
    "#of the longest one.\n",
    "\n",
    "\n",
    "n=input('enter line of string')\n",
    "str1=n.split()\n",
    "largest=len(str[0])\n",
    "for i in n:\n",
    "    if len(i)>largest:\n",
    "        larest=len(i)\n",
    "print(\"largest string lenth =\" , largest)"
   ]
  },
  {
   "cell_type": "code",
   "execution_count": 42,
   "id": "b6ef96b5",
   "metadata": {},
   "outputs": [
    {
     "name": "stdout",
     "output_type": "stream",
     "text": [
      "Reverse String:   lanij\n"
     ]
    }
   ],
   "source": [
    "#21)Write a Python function to reverses a string if its length is a multiple of 4.\n",
    "\n",
    "\n",
    "def reverse(string):\n",
    "    return string[::-1]\n",
    "\n",
    "string = 'smit '\n",
    "\n",
    "print('Reverse String: ', reverse_slice(string))\n"
   ]
  },
  {
   "cell_type": "code",
   "execution_count": 43,
   "id": "c0282a38",
   "metadata": {},
   "outputs": [],
   "source": [
    "#22) Write a Python program to get a string made of the first 2 and the last 2\n",
    "#chars from a given a string. Ifthe string length islessthan 2,return instead\n",
    "#of the empty string.\n",
    "#o Sample String:w3resource'\n",
    "#o Expected Result: 'w3ce'\n",
    "#o Sample String: 'w3'\n",
    "#o Expected Result: 'w3w3'\n",
    "#o Sample String: ' w'\n",
    "#o Expected Result: Empty String\n",
    "# Write a Python function to insert a string.\n",
    "\n",
    "\n",
    "\n"
   ]
  },
  {
   "cell_type": "code",
   "execution_count": 48,
   "id": "61bae9bb",
   "metadata": {},
   "outputs": [
    {
     "ename": "SyntaxError",
     "evalue": "EOL while scanning string literal (485067499.py, line 5)",
     "output_type": "error",
     "traceback": [
      "\u001b[1;36m  Input \u001b[1;32mIn [48]\u001b[1;36m\u001b[0m\n\u001b[1;33m    'very\".join(str):\u001b[0m\n\u001b[1;37m                     ^\u001b[0m\n\u001b[1;31mSyntaxError\u001b[0m\u001b[1;31m:\u001b[0m EOL while scanning string literal\n"
     ]
    }
   ],
   "source": [
    "#23)Write a Python function to insert a string in the middle of a string.\n",
    "\n",
    "\n",
    "str='he is very nice studant'\n",
    "'very\".join(str):\n",
    "\n",
    "print(str)"
   ]
  },
  {
   "cell_type": "code",
   "execution_count": null,
   "id": "7a49c985",
   "metadata": {},
   "outputs": [],
   "source": []
  }
 ],
 "metadata": {
  "kernelspec": {
   "display_name": "Python 3 (ipykernel)",
   "language": "python",
   "name": "python3"
  },
  "language_info": {
   "codemirror_mode": {
    "name": "ipython",
    "version": 3
   },
   "file_extension": ".py",
   "mimetype": "text/x-python",
   "name": "python",
   "nbconvert_exporter": "python",
   "pygments_lexer": "ipython3",
   "version": "3.9.12"
  }
 },
 "nbformat": 4,
 "nbformat_minor": 5
}
